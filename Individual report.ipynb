{
 "cells": [
  {
   "cell_type": "markdown",
   "metadata": {},
   "source": [
    "## Introduction\n",
    "Student's mental health issues have become a serious concern. Iain Brennan, the College Services Director of the University of York IPC (Kaplan), stated: “The 2022 Student Academic Experience Survey by HEPI(Higher Education Policy Institute) and Advance HE revealed that loneliness and anxiety levels among university students are high, with one in four of all students surveyed saying they feel lonely all or most of the time. And the most common reason students give for not continuing their courses is their mental health.” [1]\n",
    "\n",
    "Minister for Higher and Further Education Michelle Donelan said: “Moving to a new place is one of the most exciting parts of going to university but can create barriers for students in accessing mental health services.” [2]\n",
    "\n",
    "A new scheme developed by the UK government will bring together university, NHS, and mental health services to provide better join-up of services for students to help them access support.\n",
    "\n",
    "The UK government is now investing up to £3 million over the next academic year with the initiative set to help ease the pressure on the NHS and higher education providers, announced in June this year. [3]\n",
    "\n",
    "This report aims to collect insights into the mental health situations and the current academic performances of university students using the dataset conducted by Google forms.\n"
   ]
  },
  {
   "cell_type": "markdown",
   "metadata": {},
   "source": [
    "## Research  topic\n",
    "The survey aims to find the current academic situation and mental health of university students. The reason why I chose this database is that I wanted to find the relation between their year of study, grades, mental health status, and whether they had received any treatment before to understand their situation, including their academic success and illness status, to further explore whether the new policy could meet the student's needs."
   ]
  },
  {
   "cell_type": "markdown",
   "metadata": {},
   "source": [
    "## Data collection / Survey design\n",
    "### Population: \n",
    "It targeted the community of university students, and 101 people participated in this survey. The results have been curated using the Convenience Sampling method. All 101 responses received have been taken into the account.\n",
    "\n",
    "### Research Questions:\n",
    "#### Academic performance: \n",
    "- What is your course?\n",
    "- Your current year of Study\n",
    "- What is your CGPA (Cumulative Grade Point Average)?\n",
    "\n",
    "#### Mental health situation: \n",
    "- Do you have Depression / Anxiety / Panic attack?\n",
    "- Did you seek any specialist for a treatment?\n",
    "\n",
    "\n",
    "### Scope:\n",
    "This survey primarily aims to report on university students’ academic situation and their mental health. Along with that, efforts have been put into investigating their current year of study, CGPA, the number of them having depression/anxiety/panic attack, and whether they sought treatment.\n",
    "\n",
    "The 101 responses received between July 8, 2022, and July 18, 2020, will be analysed from six different aspects to yield the results. The measuring criteria are:\n",
    "A. Demographic,\n",
    "B. Course,\n",
    "C. The current year of study,\n",
    "D. CGPA,\n",
    "E. Having depression/anxiety/panic attack,\n",
    "F. Sought a treatment.\n",
    "\n",
    "\n",
    "### Survey design:\n",
    "The data set gathered information with Google Forms, and targeted university students from year 1 to year 4, however, it only collected 4 respondents in year 4. Those questions are brief to help reduce the time of taking the survey, and all the respondents are anonymous.\n",
    "\n",
    "The form consists of two demographic and ten survey questions out of which most of them are close-ended questions with a few open-ended questions. This gives us an insight into their academic performances and mental health situation."
   ]
  },
  {
   "cell_type": "markdown",
   "metadata": {},
   "source": [
    "## Data overview and pre-processing\n",
    "The key variables in our survey are as follows:\n",
    "The gender of the participant is the nominal data type. The result shows that participants are mainly women which takes up 74.3%. 25.7% of participants are men.\n",
    "\n",
    "The data collected on ‘Age’ is also nominal. Participants are aged from 18 to 24. Most of them are 18 years old, followed by 24 years old and 19.\n",
    "\n",
    "The section surveying students’ programmes aimed to collect nominal data, which shows they mainly study engineering, BCS, and BIT. \n",
    "\n",
    "For data on their current year of study, participants are mostly in year 1, with the least number in year 4.\n",
    "\n",
    "The data on ‘CGPA’ shows that most participants have high academic performance, with 43 of them scoring 3.00 to 3.49, and 47 scoring 3.50 to 4.00 respectively. A separate boxplot chart is created in this section to give a clearer picture of the distribution of students' grades.\n",
    "\n",
    "After sorting and combining the data on students having depression, anxiety, and panic attack, we can find that 10 of them have all three, 8 have depression and anxiety, 7 have depression and panic attack, and 3 have anxiety and panic attack. \n",
    "\n",
    "I also created a chart of the percentage of year 1 students with mental illness. The first reason for doing this is because they are the majority of all respondents. Besides, as Michelle Donelan, the Minister for Higher and Further Education, mentioned that moving to a new environment might cause barriers to accessing mental health services, and that problem could happen mostly to first graders, so I wanted to have a separate look at their mental health status. The result indicates that year 1 students take up the majority of those with mental health issues.\n",
    "\n",
    "The data of ‘did you seek any specialist for a treatment’ shows that only 5.9% of the participants sought treatment."
   ]
  },
  {
   "cell_type": "markdown",
   "metadata": {},
   "source": [
    "## Analysis and results"
   ]
  },
  {
   "cell_type": "code",
   "execution_count": 1,
   "metadata": {},
   "outputs": [],
   "source": [
    "%matplotlib inline"
   ]
  },
  {
   "cell_type": "code",
   "execution_count": 2,
   "metadata": {},
   "outputs": [],
   "source": [
    "import numpy as np\n",
    "import pandas as pd\n",
    "import matplotlib as mpl\n",
    "import matplotlib.pyplot as plt\n",
    "\n",
    "from unittest.mock import patch"
   ]
  },
  {
   "cell_type": "code",
   "execution_count": 3,
   "metadata": {
    "scrolled": true
   },
   "outputs": [
    {
     "data": {
      "text/html": [
       "<div>\n",
       "<style scoped>\n",
       "    .dataframe tbody tr th:only-of-type {\n",
       "        vertical-align: middle;\n",
       "    }\n",
       "\n",
       "    .dataframe tbody tr th {\n",
       "        vertical-align: top;\n",
       "    }\n",
       "\n",
       "    .dataframe thead th {\n",
       "        text-align: right;\n",
       "    }\n",
       "</style>\n",
       "<table border=\"1\" class=\"dataframe\">\n",
       "  <thead>\n",
       "    <tr style=\"text-align: right;\">\n",
       "      <th></th>\n",
       "      <th>Gender</th>\n",
       "      <th>Age</th>\n",
       "      <th>What is your course?</th>\n",
       "      <th>Your current year of Study</th>\n",
       "      <th>What is your CGPA?</th>\n",
       "      <th>Marital status</th>\n",
       "      <th>Do you have Depression?</th>\n",
       "      <th>Do you have Anxiety?</th>\n",
       "      <th>Do you have Panic attack?</th>\n",
       "      <th>Did you seek any specialist for a treatment?</th>\n",
       "    </tr>\n",
       "  </thead>\n",
       "  <tbody>\n",
       "    <tr>\n",
       "      <th>0</th>\n",
       "      <td>Female</td>\n",
       "      <td>24.0</td>\n",
       "      <td>Others</td>\n",
       "      <td>Year 3</td>\n",
       "      <td>3.00 - 3.49</td>\n",
       "      <td>No</td>\n",
       "      <td>No</td>\n",
       "      <td>No</td>\n",
       "      <td>No</td>\n",
       "      <td>No</td>\n",
       "    </tr>\n",
       "    <tr>\n",
       "      <th>1</th>\n",
       "      <td>Female</td>\n",
       "      <td>23.0</td>\n",
       "      <td>Others</td>\n",
       "      <td>Year 1</td>\n",
       "      <td>2.50 - 2.99</td>\n",
       "      <td>Yes</td>\n",
       "      <td>Yes</td>\n",
       "      <td>No</td>\n",
       "      <td>Yes</td>\n",
       "      <td>Yes</td>\n",
       "    </tr>\n",
       "    <tr>\n",
       "      <th>2</th>\n",
       "      <td>Female</td>\n",
       "      <td>18.0</td>\n",
       "      <td>Others</td>\n",
       "      <td>Year 1</td>\n",
       "      <td>3.50 - 4.00</td>\n",
       "      <td>No</td>\n",
       "      <td>No</td>\n",
       "      <td>No</td>\n",
       "      <td>No</td>\n",
       "      <td>No</td>\n",
       "    </tr>\n",
       "    <tr>\n",
       "      <th>3</th>\n",
       "      <td>Female</td>\n",
       "      <td>18.0</td>\n",
       "      <td>BCS</td>\n",
       "      <td>Year 1</td>\n",
       "      <td>3.50 - 4.00</td>\n",
       "      <td>No</td>\n",
       "      <td>No</td>\n",
       "      <td>Yes</td>\n",
       "      <td>No</td>\n",
       "      <td>No</td>\n",
       "    </tr>\n",
       "    <tr>\n",
       "      <th>4</th>\n",
       "      <td>Female</td>\n",
       "      <td>18.0</td>\n",
       "      <td>BCS</td>\n",
       "      <td>Year 1</td>\n",
       "      <td>3.00 - 3.49</td>\n",
       "      <td>No</td>\n",
       "      <td>Yes</td>\n",
       "      <td>No</td>\n",
       "      <td>No</td>\n",
       "      <td>No</td>\n",
       "    </tr>\n",
       "    <tr>\n",
       "      <th>96</th>\n",
       "      <td>Female</td>\n",
       "      <td>18.0</td>\n",
       "      <td>Psychology</td>\n",
       "      <td>Year 1</td>\n",
       "      <td>3.50 - 4.00</td>\n",
       "      <td>No</td>\n",
       "      <td>Yes</td>\n",
       "      <td>Yes</td>\n",
       "      <td>No</td>\n",
       "      <td>Yes</td>\n",
       "    </tr>\n",
       "    <tr>\n",
       "      <th>97</th>\n",
       "      <td>Female</td>\n",
       "      <td>18.0</td>\n",
       "      <td>Psychology</td>\n",
       "      <td>Year 1</td>\n",
       "      <td>3.50 - 4.00</td>\n",
       "      <td>No</td>\n",
       "      <td>Yes</td>\n",
       "      <td>Yes</td>\n",
       "      <td>Yes</td>\n",
       "      <td>No</td>\n",
       "    </tr>\n",
       "    <tr>\n",
       "      <th>98</th>\n",
       "      <td>Male</td>\n",
       "      <td>23.0</td>\n",
       "      <td>Others</td>\n",
       "      <td>Year 1</td>\n",
       "      <td>3.00 - 3.49</td>\n",
       "      <td>No</td>\n",
       "      <td>No</td>\n",
       "      <td>No</td>\n",
       "      <td>No</td>\n",
       "      <td>No</td>\n",
       "    </tr>\n",
       "    <tr>\n",
       "      <th>99</th>\n",
       "      <td>Male</td>\n",
       "      <td>23.0</td>\n",
       "      <td>Others</td>\n",
       "      <td>Year 2</td>\n",
       "      <td>3.50 - 4.00</td>\n",
       "      <td>No</td>\n",
       "      <td>No</td>\n",
       "      <td>No</td>\n",
       "      <td>Yes</td>\n",
       "      <td>No</td>\n",
       "    </tr>\n",
       "    <tr>\n",
       "      <th>100</th>\n",
       "      <td>Female</td>\n",
       "      <td>20.0</td>\n",
       "      <td>Others</td>\n",
       "      <td>Year 2</td>\n",
       "      <td>3.00 - 3.49</td>\n",
       "      <td>No</td>\n",
       "      <td>Yes</td>\n",
       "      <td>No</td>\n",
       "      <td>No</td>\n",
       "      <td>No</td>\n",
       "    </tr>\n",
       "  </tbody>\n",
       "</table>\n",
       "</div>"
      ],
      "text/plain": [
       "     Gender   Age What is your course? Your current year of Study  \\\n",
       "0    Female  24.0               Others                     Year 3   \n",
       "1    Female  23.0               Others                     Year 1   \n",
       "2    Female  18.0               Others                     Year 1   \n",
       "3    Female  18.0                  BCS                     Year 1   \n",
       "4    Female  18.0                  BCS                     Year 1   \n",
       "96   Female  18.0           Psychology                     Year 1   \n",
       "97   Female  18.0           Psychology                     Year 1   \n",
       "98     Male  23.0               Others                     Year 1   \n",
       "99     Male  23.0               Others                     Year 2   \n",
       "100  Female  20.0               Others                     Year 2   \n",
       "\n",
       "    What is your CGPA? Marital status Do you have Depression?  \\\n",
       "0          3.00 - 3.49             No                      No   \n",
       "1          2.50 - 2.99            Yes                     Yes   \n",
       "2          3.50 - 4.00             No                      No   \n",
       "3          3.50 - 4.00             No                      No   \n",
       "4          3.00 - 3.49             No                     Yes   \n",
       "96         3.50 - 4.00             No                     Yes   \n",
       "97         3.50 - 4.00             No                     Yes   \n",
       "98         3.00 - 3.49             No                      No   \n",
       "99         3.50 - 4.00             No                      No   \n",
       "100        3.00 - 3.49             No                     Yes   \n",
       "\n",
       "    Do you have Anxiety? Do you have Panic attack?  \\\n",
       "0                     No                        No   \n",
       "1                     No                       Yes   \n",
       "2                     No                        No   \n",
       "3                    Yes                        No   \n",
       "4                     No                        No   \n",
       "96                   Yes                        No   \n",
       "97                   Yes                       Yes   \n",
       "98                    No                        No   \n",
       "99                    No                       Yes   \n",
       "100                   No                        No   \n",
       "\n",
       "    Did you seek any specialist for a treatment?  \n",
       "0                                             No  \n",
       "1                                            Yes  \n",
       "2                                             No  \n",
       "3                                             No  \n",
       "4                                             No  \n",
       "96                                           Yes  \n",
       "97                                            No  \n",
       "98                                            No  \n",
       "99                                            No  \n",
       "100                                           No  "
      ]
     },
     "execution_count": 3,
     "metadata": {},
     "output_type": "execute_result"
    }
   ],
   "source": [
    "df = pd.read_excel('Student Mental health.xls', usecols='B:K')\n",
    "df.rename(columns={\n",
    "    'Choose your gender': 'Gender'}, inplace=True)\n",
    "df.head().append(df.tail())"
   ]
  },
  {
   "cell_type": "markdown",
   "metadata": {},
   "source": [
    "#### Demographic 1: Gender\n",
    "Participants are mainly women which take up 74.3% and 25.7% are men."
   ]
  },
  {
   "cell_type": "code",
   "execution_count": 4,
   "metadata": {},
   "outputs": [
    {
     "data": {
      "text/plain": [
       "Female    75\n",
       "Male      26\n",
       "Name: Gender, dtype: int64"
      ]
     },
     "execution_count": 4,
     "metadata": {},
     "output_type": "execute_result"
    }
   ],
   "source": [
    "df['Gender'].value_counts()"
   ]
  },
  {
   "cell_type": "code",
   "execution_count": 5,
   "metadata": {},
   "outputs": [
    {
     "data": {
      "image/png": "[encoded data removed]",
      "text/plain": [
       "<Figure size 432x288 with 1 Axes>"
      ]
     },
     "metadata": {},
     "output_type": "display_data"
    }
   ],
   "source": [
    "from matplotlib import cm\n",
    "\n",
    "cw = pd.Series({\n",
    "'Female': 75,\n",
    "'Male': 26,\n",
    "})\n",
    "ax = cw.plot.pie(\n",
    "autopct='%.1f%%',\n",
    "startangle=90,\n",
    "counterclock=True, colors=cm.Set2([1, 2]), wedgeprops = { 'edgecolor': 'white'},\n",
    "title = 'Gender'\n",
    ") \n",
    "ax.get_yaxis().set_visible(False) \n",
    "plt.show()"
   ]
  },
  {
   "cell_type": "markdown",
   "metadata": {},
   "source": [
    "#### Demographic 2: Age\n",
    "Participants are aged from 18 to 24. Most of them are 18 years old, followed by 24 years old."
   ]
  },
  {
   "cell_type": "code",
   "execution_count": 6,
   "metadata": {},
   "outputs": [
    {
     "data": {
      "text/html": [
       "<div>\n",
       "<style scoped>\n",
       "    .dataframe tbody tr th:only-of-type {\n",
       "        vertical-align: middle;\n",
       "    }\n",
       "\n",
       "    .dataframe tbody tr th {\n",
       "        vertical-align: top;\n",
       "    }\n",
       "\n",
       "    .dataframe thead th {\n",
       "        text-align: right;\n",
       "    }\n",
       "</style>\n",
       "<table border=\"1\" class=\"dataframe\">\n",
       "  <thead>\n",
       "    <tr style=\"text-align: right;\">\n",
       "      <th></th>\n",
       "      <th>Age</th>\n",
       "    </tr>\n",
       "  </thead>\n",
       "  <tbody>\n",
       "    <tr>\n",
       "      <th>0</th>\n",
       "      <td>24.0</td>\n",
       "    </tr>\n",
       "    <tr>\n",
       "      <th>1</th>\n",
       "      <td>23.0</td>\n",
       "    </tr>\n",
       "    <tr>\n",
       "      <th>2</th>\n",
       "      <td>18.0</td>\n",
       "    </tr>\n",
       "    <tr>\n",
       "      <th>3</th>\n",
       "      <td>18.0</td>\n",
       "    </tr>\n",
       "    <tr>\n",
       "      <th>4</th>\n",
       "      <td>18.0</td>\n",
       "    </tr>\n",
       "    <tr>\n",
       "      <th>...</th>\n",
       "      <td>...</td>\n",
       "    </tr>\n",
       "    <tr>\n",
       "      <th>96</th>\n",
       "      <td>18.0</td>\n",
       "    </tr>\n",
       "    <tr>\n",
       "      <th>97</th>\n",
       "      <td>18.0</td>\n",
       "    </tr>\n",
       "    <tr>\n",
       "      <th>98</th>\n",
       "      <td>23.0</td>\n",
       "    </tr>\n",
       "    <tr>\n",
       "      <th>99</th>\n",
       "      <td>23.0</td>\n",
       "    </tr>\n",
       "    <tr>\n",
       "      <th>100</th>\n",
       "      <td>20.0</td>\n",
       "    </tr>\n",
       "  </tbody>\n",
       "</table>\n",
       "<p>101 rows × 1 columns</p>\n",
       "</div>"
      ],
      "text/plain": [
       "      Age\n",
       "0    24.0\n",
       "1    23.0\n",
       "2    18.0\n",
       "3    18.0\n",
       "4    18.0\n",
       "..    ...\n",
       "96   18.0\n",
       "97   18.0\n",
       "98   23.0\n",
       "99   23.0\n",
       "100  20.0\n",
       "\n",
       "[101 rows x 1 columns]"
      ]
     },
     "execution_count": 6,
     "metadata": {},
     "output_type": "execute_result"
    }
   ],
   "source": [
    "ff = pd.read_excel('Student Mental health.xls', usecols=[2])\n",
    "ff"
   ]
  },
  {
   "cell_type": "code",
   "execution_count": 7,
   "metadata": {},
   "outputs": [
    {
     "data": {
      "text/plain": [
       "Age    1\n",
       "dtype: int64"
      ]
     },
     "execution_count": 7,
     "metadata": {},
     "output_type": "execute_result"
    }
   ],
   "source": [
    "ff.isna().sum()"
   ]
  },
  {
   "cell_type": "code",
   "execution_count": 8,
   "metadata": {},
   "outputs": [
    {
     "data": {
      "text/html": [
       "<div>\n",
       "<style scoped>\n",
       "    .dataframe tbody tr th:only-of-type {\n",
       "        vertical-align: middle;\n",
       "    }\n",
       "\n",
       "    .dataframe tbody tr th {\n",
       "        vertical-align: top;\n",
       "    }\n",
       "\n",
       "    .dataframe thead th {\n",
       "        text-align: right;\n",
       "    }\n",
       "</style>\n",
       "<table border=\"1\" class=\"dataframe\">\n",
       "  <thead>\n",
       "    <tr style=\"text-align: right;\">\n",
       "      <th></th>\n",
       "      <th>Age</th>\n",
       "    </tr>\n",
       "  </thead>\n",
       "  <tbody>\n",
       "    <tr>\n",
       "      <th>0</th>\n",
       "      <td>24.0</td>\n",
       "    </tr>\n",
       "    <tr>\n",
       "      <th>1</th>\n",
       "      <td>23.0</td>\n",
       "    </tr>\n",
       "    <tr>\n",
       "      <th>2</th>\n",
       "      <td>18.0</td>\n",
       "    </tr>\n",
       "    <tr>\n",
       "      <th>3</th>\n",
       "      <td>18.0</td>\n",
       "    </tr>\n",
       "    <tr>\n",
       "      <th>4</th>\n",
       "      <td>18.0</td>\n",
       "    </tr>\n",
       "    <tr>\n",
       "      <th>...</th>\n",
       "      <td>...</td>\n",
       "    </tr>\n",
       "    <tr>\n",
       "      <th>96</th>\n",
       "      <td>18.0</td>\n",
       "    </tr>\n",
       "    <tr>\n",
       "      <th>97</th>\n",
       "      <td>18.0</td>\n",
       "    </tr>\n",
       "    <tr>\n",
       "      <th>98</th>\n",
       "      <td>23.0</td>\n",
       "    </tr>\n",
       "    <tr>\n",
       "      <th>99</th>\n",
       "      <td>23.0</td>\n",
       "    </tr>\n",
       "    <tr>\n",
       "      <th>100</th>\n",
       "      <td>20.0</td>\n",
       "    </tr>\n",
       "  </tbody>\n",
       "</table>\n",
       "<p>100 rows × 1 columns</p>\n",
       "</div>"
      ],
      "text/plain": [
       "      Age\n",
       "0    24.0\n",
       "1    23.0\n",
       "2    18.0\n",
       "3    18.0\n",
       "4    18.0\n",
       "..    ...\n",
       "96   18.0\n",
       "97   18.0\n",
       "98   23.0\n",
       "99   23.0\n",
       "100  20.0\n",
       "\n",
       "[100 rows x 1 columns]"
      ]
     },
     "execution_count": 8,
     "metadata": {},
     "output_type": "execute_result"
    }
   ],
   "source": [
    "ff.dropna(inplace=True)\n",
    "ff"
   ]
  },
  {
   "cell_type": "code",
   "execution_count": 9,
   "metadata": {},
   "outputs": [
    {
     "data": {
      "text/plain": [
       "Age    category\n",
       "dtype: object"
      ]
     },
     "execution_count": 9,
     "metadata": {},
     "output_type": "execute_result"
    }
   ],
   "source": [
    "ff['Age'] = ff['Age'].astype('category')\n",
    "ff.dtypes"
   ]
  },
  {
   "cell_type": "code",
   "execution_count": 10,
   "metadata": {},
   "outputs": [
    {
     "data": {
      "text/plain": [
       "CategoricalDtype(categories=['18', '19', '20', '21', '22', '23', '24'], ordered=True)"
      ]
     },
     "execution_count": 10,
     "metadata": {},
     "output_type": "execute_result"
    }
   ],
   "source": [
    "Age_levels = ['18', '19', '20', '21', '22', '23', '24']\n",
    "ff['Age'] = ff['Age'].astype(pd.CategoricalDtype(categories=Age_levels, ordered=True))\n",
    "ff['Age'].dtype"
   ]
  },
  {
   "cell_type": "code",
   "execution_count": 11,
   "metadata": {},
   "outputs": [
    {
     "data": {
      "text/html": [
       "<div>\n",
       "<style scoped>\n",
       "    .dataframe tbody tr th:only-of-type {\n",
       "        vertical-align: middle;\n",
       "    }\n",
       "\n",
       "    .dataframe tbody tr th {\n",
       "        vertical-align: top;\n",
       "    }\n",
       "\n",
       "    .dataframe thead th {\n",
       "        text-align: right;\n",
       "    }\n",
       "</style>\n",
       "<table border=\"1\" class=\"dataframe\">\n",
       "  <thead>\n",
       "    <tr style=\"text-align: right;\">\n",
       "      <th></th>\n",
       "      <th>Age</th>\n",
       "    </tr>\n",
       "  </thead>\n",
       "  <tbody>\n",
       "    <tr>\n",
       "      <th>0</th>\n",
       "      <td>24</td>\n",
       "    </tr>\n",
       "    <tr>\n",
       "      <th>1</th>\n",
       "      <td>23</td>\n",
       "    </tr>\n",
       "    <tr>\n",
       "      <th>2</th>\n",
       "      <td>18</td>\n",
       "    </tr>\n",
       "    <tr>\n",
       "      <th>3</th>\n",
       "      <td>18</td>\n",
       "    </tr>\n",
       "    <tr>\n",
       "      <th>4</th>\n",
       "      <td>18</td>\n",
       "    </tr>\n",
       "  </tbody>\n",
       "</table>\n",
       "</div>"
      ],
      "text/plain": [
       "  Age\n",
       "0  24\n",
       "1  23\n",
       "2  18\n",
       "3  18\n",
       "4  18"
      ]
     },
     "execution_count": 11,
     "metadata": {},
     "output_type": "execute_result"
    }
   ],
   "source": [
    "ff['Age'] = ff['Age'].astype( pd.CategoricalDtype(categories=Age_levels, ordered=True))\n",
    "ff.head()"
   ]
  },
  {
   "cell_type": "code",
   "execution_count": 12,
   "metadata": {},
   "outputs": [
    {
     "data": {
      "text/plain": [
       "18    32\n",
       "19    21\n",
       "20     6\n",
       "21     3\n",
       "22     2\n",
       "23    13\n",
       "24    23\n",
       "Name: Age, dtype: int64"
      ]
     },
     "execution_count": 12,
     "metadata": {},
     "output_type": "execute_result"
    }
   ],
   "source": [
    "counts = ff['Age'].value_counts(sort=False)\n",
    "counts"
   ]
  },
  {
   "cell_type": "code",
   "execution_count": 13,
   "metadata": {},
   "outputs": [
    {
     "data": {
      "image/png": "[encoded data removed]",
      "text/plain": [
       "<Figure size 432x288 with 1 Axes>"
      ]
     },
     "metadata": {
      "needs_background": "light"
     },
     "output_type": "display_data"
    }
   ],
   "source": [
    "counts = ff['Age'].value_counts(sort=False)\n",
    "ax = counts.plot.bar(rot=0)\n",
    "ax.set_title('Age of the students')\n",
    "ax.set_xlabel('Age (year)')\n",
    "ax.set_ylabel('Frequency')\n",
    "plt.show()"
   ]
  },
  {
   "cell_type": "markdown",
   "metadata": {},
   "source": [
    "#### Research Question 1-1: What is your course?\n",
    "The result shows that participants mainly study engineering, BCS, and BIT. The rest of them are from KOE, biomedical science, BENL, laws, Pendidikan Islam, kirks, Islamic education, fiqh, and others."
   ]
  },
  {
   "cell_type": "code",
   "execution_count": 14,
   "metadata": {},
   "outputs": [
    {
     "data": {
      "text/html": [
       "<div>\n",
       "<style scoped>\n",
       "    .dataframe tbody tr th:only-of-type {\n",
       "        vertical-align: middle;\n",
       "    }\n",
       "\n",
       "    .dataframe tbody tr th {\n",
       "        vertical-align: top;\n",
       "    }\n",
       "\n",
       "    .dataframe thead th {\n",
       "        text-align: right;\n",
       "    }\n",
       "</style>\n",
       "<table border=\"1\" class=\"dataframe\">\n",
       "  <thead>\n",
       "    <tr style=\"text-align: right;\">\n",
       "      <th></th>\n",
       "      <th>What is your course?</th>\n",
       "    </tr>\n",
       "  </thead>\n",
       "  <tbody>\n",
       "    <tr>\n",
       "      <th>0</th>\n",
       "      <td>Others</td>\n",
       "    </tr>\n",
       "    <tr>\n",
       "      <th>1</th>\n",
       "      <td>Others</td>\n",
       "    </tr>\n",
       "    <tr>\n",
       "      <th>2</th>\n",
       "      <td>Others</td>\n",
       "    </tr>\n",
       "    <tr>\n",
       "      <th>3</th>\n",
       "      <td>BCS</td>\n",
       "    </tr>\n",
       "    <tr>\n",
       "      <th>4</th>\n",
       "      <td>BCS</td>\n",
       "    </tr>\n",
       "    <tr>\n",
       "      <th>...</th>\n",
       "      <td>...</td>\n",
       "    </tr>\n",
       "    <tr>\n",
       "      <th>96</th>\n",
       "      <td>Psychology</td>\n",
       "    </tr>\n",
       "    <tr>\n",
       "      <th>97</th>\n",
       "      <td>Psychology</td>\n",
       "    </tr>\n",
       "    <tr>\n",
       "      <th>98</th>\n",
       "      <td>Others</td>\n",
       "    </tr>\n",
       "    <tr>\n",
       "      <th>99</th>\n",
       "      <td>Others</td>\n",
       "    </tr>\n",
       "    <tr>\n",
       "      <th>100</th>\n",
       "      <td>Others</td>\n",
       "    </tr>\n",
       "  </tbody>\n",
       "</table>\n",
       "<p>101 rows × 1 columns</p>\n",
       "</div>"
      ],
      "text/plain": [
       "    What is your course?\n",
       "0                 Others\n",
       "1                 Others\n",
       "2                 Others\n",
       "3                    BCS\n",
       "4                    BCS\n",
       "..                   ...\n",
       "96            Psychology\n",
       "97            Psychology\n",
       "98                Others\n",
       "99                Others\n",
       "100               Others\n",
       "\n",
       "[101 rows x 1 columns]"
      ]
     },
     "execution_count": 14,
     "metadata": {},
     "output_type": "execute_result"
    }
   ],
   "source": [
    "pro = pd.read_excel('Student Mental health.xls', usecols=[3])\n",
    "pro"
   ]
  },
  {
   "cell_type": "code",
   "execution_count": 15,
   "metadata": {},
   "outputs": [
    {
     "data": {
      "text/plain": [
       "What is your course?    0\n",
       "dtype: int64"
      ]
     },
     "execution_count": 15,
     "metadata": {},
     "output_type": "execute_result"
    }
   ],
   "source": [
    "pro.isna().sum()"
   ]
  },
  {
   "cell_type": "code",
   "execution_count": 16,
   "metadata": {},
   "outputs": [
    {
     "data": {
      "text/html": [
       "<div>\n",
       "<style scoped>\n",
       "    .dataframe tbody tr th:only-of-type {\n",
       "        vertical-align: middle;\n",
       "    }\n",
       "\n",
       "    .dataframe tbody tr th {\n",
       "        vertical-align: top;\n",
       "    }\n",
       "\n",
       "    .dataframe thead th {\n",
       "        text-align: right;\n",
       "    }\n",
       "</style>\n",
       "<table border=\"1\" class=\"dataframe\">\n",
       "  <thead>\n",
       "    <tr style=\"text-align: right;\">\n",
       "      <th></th>\n",
       "      <th>What is your course?</th>\n",
       "    </tr>\n",
       "  </thead>\n",
       "  <tbody>\n",
       "    <tr>\n",
       "      <th>count</th>\n",
       "      <td>101</td>\n",
       "    </tr>\n",
       "    <tr>\n",
       "      <th>unique</th>\n",
       "      <td>13</td>\n",
       "    </tr>\n",
       "    <tr>\n",
       "      <th>top</th>\n",
       "      <td>Others</td>\n",
       "    </tr>\n",
       "    <tr>\n",
       "      <th>freq</th>\n",
       "      <td>24</td>\n",
       "    </tr>\n",
       "  </tbody>\n",
       "</table>\n",
       "</div>"
      ],
      "text/plain": [
       "       What is your course?\n",
       "count                   101\n",
       "unique                   13\n",
       "top                  Others\n",
       "freq                     24"
      ]
     },
     "execution_count": 16,
     "metadata": {},
     "output_type": "execute_result"
    }
   ],
   "source": [
    "pro.describe()"
   ]
  },
  {
   "cell_type": "code",
   "execution_count": 17,
   "metadata": {},
   "outputs": [
    {
     "data": {
      "text/plain": [
       "Others                24\n",
       "Engineering           20\n",
       "BCS                   18\n",
       "BIT                   10\n",
       "KOE                    6\n",
       "Biomedical Science     4\n",
       "BENL                   3\n",
       "Kirkhs                 3\n",
       "Psychology             3\n",
       "Laws                   3\n",
       "Pendidikan Islam       3\n",
       "Fiqh                   2\n",
       "Islamic Education      2\n",
       "Name: What is your course?, dtype: int64"
      ]
     },
     "execution_count": 17,
     "metadata": {},
     "output_type": "execute_result"
    }
   ],
   "source": [
    "pro['What is your course?'].value_counts()"
   ]
  },
  {
   "cell_type": "code",
   "execution_count": 18,
   "metadata": {},
   "outputs": [
    {
     "data": {
      "image/png": "[encoded data removed]",
      "text/plain": [
       "<Figure size 432x288 with 1 Axes>"
      ]
     },
     "metadata": {
      "needs_background": "light"
     },
     "output_type": "display_data"
    }
   ],
   "source": [
    "colors = ['#E69F00', '#56B4E9', '#009E73', '#F0E442', '#0072B2', '#D55E00', '#CC79A7']\n",
    "ax = pro['What is your course?'].value_counts(ascending=True).plot.barh(color=colors, rot=0)\n",
    "ax.set_xlabel('Frequency')\n",
    "ax.set_ylabel('Programme')\n",
    "ax.set_title('Programme of students')\n",
    "\n",
    "plt.show()"
   ]
  },
  {
   "cell_type": "markdown",
   "metadata": {},
   "source": [
    "#### Research Question 1-2: Your current year of Study?\n",
    "They are mostly in year 1, with least people in year 4."
   ]
  },
  {
   "cell_type": "code",
   "execution_count": 19,
   "metadata": {},
   "outputs": [
    {
     "data": {
      "text/html": [
       "<div>\n",
       "<style scoped>\n",
       "    .dataframe tbody tr th:only-of-type {\n",
       "        vertical-align: middle;\n",
       "    }\n",
       "\n",
       "    .dataframe tbody tr th {\n",
       "        vertical-align: top;\n",
       "    }\n",
       "\n",
       "    .dataframe thead th {\n",
       "        text-align: right;\n",
       "    }\n",
       "</style>\n",
       "<table border=\"1\" class=\"dataframe\">\n",
       "  <thead>\n",
       "    <tr style=\"text-align: right;\">\n",
       "      <th></th>\n",
       "      <th>Your current year of Study</th>\n",
       "    </tr>\n",
       "  </thead>\n",
       "  <tbody>\n",
       "    <tr>\n",
       "      <th>0</th>\n",
       "      <td>Year 3</td>\n",
       "    </tr>\n",
       "    <tr>\n",
       "      <th>1</th>\n",
       "      <td>Year 1</td>\n",
       "    </tr>\n",
       "    <tr>\n",
       "      <th>2</th>\n",
       "      <td>Year 1</td>\n",
       "    </tr>\n",
       "    <tr>\n",
       "      <th>3</th>\n",
       "      <td>Year 1</td>\n",
       "    </tr>\n",
       "    <tr>\n",
       "      <th>4</th>\n",
       "      <td>Year 1</td>\n",
       "    </tr>\n",
       "    <tr>\n",
       "      <th>...</th>\n",
       "      <td>...</td>\n",
       "    </tr>\n",
       "    <tr>\n",
       "      <th>96</th>\n",
       "      <td>Year 1</td>\n",
       "    </tr>\n",
       "    <tr>\n",
       "      <th>97</th>\n",
       "      <td>Year 1</td>\n",
       "    </tr>\n",
       "    <tr>\n",
       "      <th>98</th>\n",
       "      <td>Year 1</td>\n",
       "    </tr>\n",
       "    <tr>\n",
       "      <th>99</th>\n",
       "      <td>Year 2</td>\n",
       "    </tr>\n",
       "    <tr>\n",
       "      <th>100</th>\n",
       "      <td>Year 2</td>\n",
       "    </tr>\n",
       "  </tbody>\n",
       "</table>\n",
       "<p>101 rows × 1 columns</p>\n",
       "</div>"
      ],
      "text/plain": [
       "    Your current year of Study\n",
       "0                       Year 3\n",
       "1                       Year 1\n",
       "2                       Year 1\n",
       "3                       Year 1\n",
       "4                       Year 1\n",
       "..                         ...\n",
       "96                      Year 1\n",
       "97                      Year 1\n",
       "98                      Year 1\n",
       "99                      Year 2\n",
       "100                     Year 2\n",
       "\n",
       "[101 rows x 1 columns]"
      ]
     },
     "execution_count": 19,
     "metadata": {},
     "output_type": "execute_result"
    }
   ],
   "source": [
    "yr = pd.read_excel('Student Mental health.xls', usecols=[4])\n",
    "yr"
   ]
  },
  {
   "cell_type": "code",
   "execution_count": 20,
   "metadata": {},
   "outputs": [
    {
     "data": {
      "text/html": [
       "<div>\n",
       "<style scoped>\n",
       "    .dataframe tbody tr th:only-of-type {\n",
       "        vertical-align: middle;\n",
       "    }\n",
       "\n",
       "    .dataframe tbody tr th {\n",
       "        vertical-align: top;\n",
       "    }\n",
       "\n",
       "    .dataframe thead th {\n",
       "        text-align: right;\n",
       "    }\n",
       "</style>\n",
       "<table border=\"1\" class=\"dataframe\">\n",
       "  <thead>\n",
       "    <tr style=\"text-align: right;\">\n",
       "      <th></th>\n",
       "      <th>Your current year of Study</th>\n",
       "    </tr>\n",
       "  </thead>\n",
       "  <tbody>\n",
       "    <tr>\n",
       "      <th>0</th>\n",
       "      <td>Year 3</td>\n",
       "    </tr>\n",
       "    <tr>\n",
       "      <th>1</th>\n",
       "      <td>Year 1</td>\n",
       "    </tr>\n",
       "    <tr>\n",
       "      <th>2</th>\n",
       "      <td>Year 1</td>\n",
       "    </tr>\n",
       "    <tr>\n",
       "      <th>3</th>\n",
       "      <td>Year 1</td>\n",
       "    </tr>\n",
       "    <tr>\n",
       "      <th>4</th>\n",
       "      <td>Year 1</td>\n",
       "    </tr>\n",
       "  </tbody>\n",
       "</table>\n",
       "</div>"
      ],
      "text/plain": [
       "  Your current year of Study\n",
       "0                     Year 3\n",
       "1                     Year 1\n",
       "2                     Year 1\n",
       "3                     Year 1\n",
       "4                     Year 1"
      ]
     },
     "execution_count": 20,
     "metadata": {},
     "output_type": "execute_result"
    }
   ],
   "source": [
    "yr['Your current year of Study'] = yr['Your current year of Study'].astype('category')\n",
    "yr.head()"
   ]
  },
  {
   "cell_type": "code",
   "execution_count": 21,
   "metadata": {},
   "outputs": [
    {
     "data": {
      "text/plain": [
       "Year 1    43\n",
       "Year 2    26\n",
       "Year 3    24\n",
       "Year 4     8\n",
       "Name: Your current year of Study, dtype: int64"
      ]
     },
     "execution_count": 21,
     "metadata": {},
     "output_type": "execute_result"
    }
   ],
   "source": [
    "counts = yr['Your current year of Study'].value_counts()\n",
    "counts"
   ]
  },
  {
   "cell_type": "code",
   "execution_count": 22,
   "metadata": {},
   "outputs": [
    {
     "data": {
      "image/png": "[encoded data removed]",
      "text/plain": [
       "<Figure size 432x288 with 1 Axes>"
      ]
     },
     "metadata": {
      "needs_background": "light"
     },
     "output_type": "display_data"
    }
   ],
   "source": [
    "ax = counts.plot.bar(rot=0)\n",
    "ax.set_title('Current year of study')\n",
    "ax.set_xlabel('year')\n",
    "ax.set_ylabel('frequency')\n",
    "ax.yaxis.set_major_formatter(mpl.ticker.EngFormatter(places=0))\n",
    "mode = yr['Your current year of Study'].mode()[0]\n",
    "mode_pos = counts.index.get_loc(mode)\n",
    "ax.annotate('mode={}'.format(mode), xy=(mode_pos + 0.25, 14),\n",
    "\n",
    "xytext=(mode_pos + 0.7, 15),\n",
    "arrowprops=dict(facecolor='black', shrink=0.05))\n",
    "\n",
    "plt.show()"
   ]
  },
  {
   "cell_type": "markdown",
   "metadata": {},
   "source": [
    "#### Research Question 1-3: What is your CGPA?\n",
    "The majority of participants have high academic performance, with 43 of them scoring 3.00 to 3.49, and 47 scoring 3.50 to 4.00. The box plot below gives a clearer view of the distribution of their CGPA score."
   ]
  },
  {
   "cell_type": "code",
   "execution_count": 23,
   "metadata": {},
   "outputs": [
    {
     "data": {
      "text/html": [
       "<div>\n",
       "<style scoped>\n",
       "    .dataframe tbody tr th:only-of-type {\n",
       "        vertical-align: middle;\n",
       "    }\n",
       "\n",
       "    .dataframe tbody tr th {\n",
       "        vertical-align: top;\n",
       "    }\n",
       "\n",
       "    .dataframe thead th {\n",
       "        text-align: right;\n",
       "    }\n",
       "</style>\n",
       "<table border=\"1\" class=\"dataframe\">\n",
       "  <thead>\n",
       "    <tr style=\"text-align: right;\">\n",
       "      <th></th>\n",
       "      <th>What is your CGPA?</th>\n",
       "    </tr>\n",
       "  </thead>\n",
       "  <tbody>\n",
       "    <tr>\n",
       "      <th>0</th>\n",
       "      <td>3.00 - 3.49</td>\n",
       "    </tr>\n",
       "    <tr>\n",
       "      <th>1</th>\n",
       "      <td>2.50 - 2.99</td>\n",
       "    </tr>\n",
       "    <tr>\n",
       "      <th>2</th>\n",
       "      <td>3.50 - 4.00</td>\n",
       "    </tr>\n",
       "    <tr>\n",
       "      <th>3</th>\n",
       "      <td>3.50 - 4.00</td>\n",
       "    </tr>\n",
       "    <tr>\n",
       "      <th>4</th>\n",
       "      <td>3.00 - 3.49</td>\n",
       "    </tr>\n",
       "    <tr>\n",
       "      <th>...</th>\n",
       "      <td>...</td>\n",
       "    </tr>\n",
       "    <tr>\n",
       "      <th>96</th>\n",
       "      <td>3.50 - 4.00</td>\n",
       "    </tr>\n",
       "    <tr>\n",
       "      <th>97</th>\n",
       "      <td>3.50 - 4.00</td>\n",
       "    </tr>\n",
       "    <tr>\n",
       "      <th>98</th>\n",
       "      <td>3.00 - 3.49</td>\n",
       "    </tr>\n",
       "    <tr>\n",
       "      <th>99</th>\n",
       "      <td>3.50 - 4.00</td>\n",
       "    </tr>\n",
       "    <tr>\n",
       "      <th>100</th>\n",
       "      <td>3.00 - 3.49</td>\n",
       "    </tr>\n",
       "  </tbody>\n",
       "</table>\n",
       "<p>101 rows × 1 columns</p>\n",
       "</div>"
      ],
      "text/plain": [
       "    What is your CGPA?\n",
       "0          3.00 - 3.49\n",
       "1          2.50 - 2.99\n",
       "2          3.50 - 4.00\n",
       "3          3.50 - 4.00\n",
       "4          3.00 - 3.49\n",
       "..                 ...\n",
       "96         3.50 - 4.00\n",
       "97         3.50 - 4.00\n",
       "98         3.00 - 3.49\n",
       "99         3.50 - 4.00\n",
       "100        3.00 - 3.49\n",
       "\n",
       "[101 rows x 1 columns]"
      ]
     },
     "execution_count": 23,
     "metadata": {},
     "output_type": "execute_result"
    }
   ],
   "source": [
    "cg = pd.read_excel('Student Mental health.xls', usecols=[5])\n",
    "cg"
   ]
  },
  {
   "cell_type": "code",
   "execution_count": 24,
   "metadata": {},
   "outputs": [
    {
     "data": {
      "text/html": [
       "<div>\n",
       "<style scoped>\n",
       "    .dataframe tbody tr th:only-of-type {\n",
       "        vertical-align: middle;\n",
       "    }\n",
       "\n",
       "    .dataframe tbody tr th {\n",
       "        vertical-align: top;\n",
       "    }\n",
       "\n",
       "    .dataframe thead th {\n",
       "        text-align: right;\n",
       "    }\n",
       "</style>\n",
       "<table border=\"1\" class=\"dataframe\">\n",
       "  <thead>\n",
       "    <tr style=\"text-align: right;\">\n",
       "      <th></th>\n",
       "      <th>What is your CGPA?</th>\n",
       "    </tr>\n",
       "  </thead>\n",
       "  <tbody>\n",
       "    <tr>\n",
       "      <th>0</th>\n",
       "      <td>3.00 - 3.49</td>\n",
       "    </tr>\n",
       "    <tr>\n",
       "      <th>1</th>\n",
       "      <td>2.50 - 2.99</td>\n",
       "    </tr>\n",
       "    <tr>\n",
       "      <th>2</th>\n",
       "      <td>3.50 - 4.00</td>\n",
       "    </tr>\n",
       "    <tr>\n",
       "      <th>3</th>\n",
       "      <td>3.50 - 4.00</td>\n",
       "    </tr>\n",
       "    <tr>\n",
       "      <th>4</th>\n",
       "      <td>3.00 - 3.49</td>\n",
       "    </tr>\n",
       "    <tr>\n",
       "      <th>...</th>\n",
       "      <td>...</td>\n",
       "    </tr>\n",
       "    <tr>\n",
       "      <th>96</th>\n",
       "      <td>3.50 - 4.00</td>\n",
       "    </tr>\n",
       "    <tr>\n",
       "      <th>97</th>\n",
       "      <td>3.50 - 4.00</td>\n",
       "    </tr>\n",
       "    <tr>\n",
       "      <th>98</th>\n",
       "      <td>3.00 - 3.49</td>\n",
       "    </tr>\n",
       "    <tr>\n",
       "      <th>99</th>\n",
       "      <td>3.50 - 4.00</td>\n",
       "    </tr>\n",
       "    <tr>\n",
       "      <th>100</th>\n",
       "      <td>3.00 - 3.49</td>\n",
       "    </tr>\n",
       "  </tbody>\n",
       "</table>\n",
       "<p>101 rows × 1 columns</p>\n",
       "</div>"
      ],
      "text/plain": [
       "    What is your CGPA?\n",
       "0          3.00 - 3.49\n",
       "1          2.50 - 2.99\n",
       "2          3.50 - 4.00\n",
       "3          3.50 - 4.00\n",
       "4          3.00 - 3.49\n",
       "..                 ...\n",
       "96         3.50 - 4.00\n",
       "97         3.50 - 4.00\n",
       "98         3.00 - 3.49\n",
       "99         3.50 - 4.00\n",
       "100        3.00 - 3.49\n",
       "\n",
       "[101 rows x 1 columns]"
      ]
     },
     "execution_count": 24,
     "metadata": {},
     "output_type": "execute_result"
    }
   ],
   "source": [
    "cgpa_levels = ['0 - 1.99', '2.00 - 2.49', '2.50 - 2.99', '3.00 - 3.49', '3.50 - 4.00']\n",
    "\n",
    "cg['What is your CGPA?'] = cg['What is your CGPA?'].astype(pd.CategoricalDtype(categories=cgpa_levels, ordered=True))\n",
    "cg"
   ]
  },
  {
   "cell_type": "code",
   "execution_count": 25,
   "metadata": {},
   "outputs": [
    {
     "data": {
      "text/plain": [
       "0 - 1.99        4\n",
       "2.00 - 2.49     2\n",
       "2.50 - 2.99     4\n",
       "3.00 - 3.49    43\n",
       "3.50 - 4.00    47\n",
       "Name: What is your CGPA?, dtype: int64"
      ]
     },
     "execution_count": 25,
     "metadata": {},
     "output_type": "execute_result"
    }
   ],
   "source": [
    "counts = cg['What is your CGPA?'].value_counts(sort=False)\n",
    "counts"
   ]
  },
  {
   "cell_type": "code",
   "execution_count": 26,
   "metadata": {},
   "outputs": [
    {
     "data": {
      "image/png": "[encoded data removed]",
      "text/plain": [
       "<Figure size 432x288 with 1 Axes>"
      ]
     },
     "metadata": {
      "needs_background": "light"
     },
     "output_type": "display_data"
    }
   ],
   "source": [
    "counts = cg['What is your CGPA?'].value_counts(sort=False)\n",
    "ax = counts.plot.bar(rot=0)\n",
    "ax.set_title('CGPA of the students')\n",
    "ax.set_xlabel('units')\n",
    "ax.set_ylabel('frequency')\n",
    "plt.show()"
   ]
  },
  {
   "cell_type": "code",
   "execution_count": 27,
   "metadata": {},
   "outputs": [],
   "source": [
    "def recal_gpa(x):\n",
    "    if x == \"3.50 - 4.00\":\n",
    "        return float(3.75)\n",
    "    elif x == \"3.00 - 3.49\":\n",
    "        return float(3.25)\n",
    "    elif x == \"2.50 - 2.99\":\n",
    "        return float(2.75)\n",
    "    elif x == \"2.00 - 2.49\":\n",
    "        return float(2.25)\n",
    "    else: # 0 - 1.99\n",
    "        return float(1.00)"
   ]
  },
  {
   "cell_type": "code",
   "execution_count": 28,
   "metadata": {},
   "outputs": [
    {
     "data": {
      "text/html": [
       "<div>\n",
       "<style scoped>\n",
       "    .dataframe tbody tr th:only-of-type {\n",
       "        vertical-align: middle;\n",
       "    }\n",
       "\n",
       "    .dataframe tbody tr th {\n",
       "        vertical-align: top;\n",
       "    }\n",
       "\n",
       "    .dataframe thead th {\n",
       "        text-align: right;\n",
       "    }\n",
       "</style>\n",
       "<table border=\"1\" class=\"dataframe\">\n",
       "  <thead>\n",
       "    <tr style=\"text-align: right;\">\n",
       "      <th></th>\n",
       "      <th>What is your CGPA?</th>\n",
       "    </tr>\n",
       "  </thead>\n",
       "  <tbody>\n",
       "    <tr>\n",
       "      <th>0</th>\n",
       "      <td>3.00 - 3.49</td>\n",
       "    </tr>\n",
       "    <tr>\n",
       "      <th>1</th>\n",
       "      <td>2.50 - 2.99</td>\n",
       "    </tr>\n",
       "    <tr>\n",
       "      <th>2</th>\n",
       "      <td>3.50 - 4.00</td>\n",
       "    </tr>\n",
       "    <tr>\n",
       "      <th>3</th>\n",
       "      <td>3.50 - 4.00</td>\n",
       "    </tr>\n",
       "    <tr>\n",
       "      <th>4</th>\n",
       "      <td>3.00 - 3.49</td>\n",
       "    </tr>\n",
       "    <tr>\n",
       "      <th>...</th>\n",
       "      <td>...</td>\n",
       "    </tr>\n",
       "    <tr>\n",
       "      <th>96</th>\n",
       "      <td>3.50 - 4.00</td>\n",
       "    </tr>\n",
       "    <tr>\n",
       "      <th>97</th>\n",
       "      <td>3.50 - 4.00</td>\n",
       "    </tr>\n",
       "    <tr>\n",
       "      <th>98</th>\n",
       "      <td>3.00 - 3.49</td>\n",
       "    </tr>\n",
       "    <tr>\n",
       "      <th>99</th>\n",
       "      <td>3.50 - 4.00</td>\n",
       "    </tr>\n",
       "    <tr>\n",
       "      <th>100</th>\n",
       "      <td>3.00 - 3.49</td>\n",
       "    </tr>\n",
       "  </tbody>\n",
       "</table>\n",
       "<p>101 rows × 1 columns</p>\n",
       "</div>"
      ],
      "text/plain": [
       "    What is your CGPA?\n",
       "0          3.00 - 3.49\n",
       "1          2.50 - 2.99\n",
       "2          3.50 - 4.00\n",
       "3          3.50 - 4.00\n",
       "4          3.00 - 3.49\n",
       "..                 ...\n",
       "96         3.50 - 4.00\n",
       "97         3.50 - 4.00\n",
       "98         3.00 - 3.49\n",
       "99         3.50 - 4.00\n",
       "100        3.00 - 3.49\n",
       "\n",
       "[101 rows x 1 columns]"
      ]
     },
     "execution_count": 28,
     "metadata": {},
     "output_type": "execute_result"
    }
   ],
   "source": [
    "gpa = pd.read_excel('Student Mental health.xls', usecols=[5])\n",
    "gpa"
   ]
  },
  {
   "cell_type": "code",
   "execution_count": 29,
   "metadata": {},
   "outputs": [
    {
     "data": {
      "text/html": [
       "<div>\n",
       "<style scoped>\n",
       "    .dataframe tbody tr th:only-of-type {\n",
       "        vertical-align: middle;\n",
       "    }\n",
       "\n",
       "    .dataframe tbody tr th {\n",
       "        vertical-align: top;\n",
       "    }\n",
       "\n",
       "    .dataframe thead th {\n",
       "        text-align: right;\n",
       "    }\n",
       "</style>\n",
       "<table border=\"1\" class=\"dataframe\">\n",
       "  <thead>\n",
       "    <tr style=\"text-align: right;\">\n",
       "      <th></th>\n",
       "      <th>What is your CGPA?</th>\n",
       "      <th>new_gpa</th>\n",
       "    </tr>\n",
       "  </thead>\n",
       "  <tbody>\n",
       "    <tr>\n",
       "      <th>0</th>\n",
       "      <td>3.00 - 3.49</td>\n",
       "      <td>3.25</td>\n",
       "    </tr>\n",
       "    <tr>\n",
       "      <th>1</th>\n",
       "      <td>2.50 - 2.99</td>\n",
       "      <td>2.75</td>\n",
       "    </tr>\n",
       "    <tr>\n",
       "      <th>2</th>\n",
       "      <td>3.50 - 4.00</td>\n",
       "      <td>3.75</td>\n",
       "    </tr>\n",
       "    <tr>\n",
       "      <th>3</th>\n",
       "      <td>3.50 - 4.00</td>\n",
       "      <td>3.75</td>\n",
       "    </tr>\n",
       "    <tr>\n",
       "      <th>4</th>\n",
       "      <td>3.00 - 3.49</td>\n",
       "      <td>3.25</td>\n",
       "    </tr>\n",
       "    <tr>\n",
       "      <th>...</th>\n",
       "      <td>...</td>\n",
       "      <td>...</td>\n",
       "    </tr>\n",
       "    <tr>\n",
       "      <th>96</th>\n",
       "      <td>3.50 - 4.00</td>\n",
       "      <td>3.75</td>\n",
       "    </tr>\n",
       "    <tr>\n",
       "      <th>97</th>\n",
       "      <td>3.50 - 4.00</td>\n",
       "      <td>3.75</td>\n",
       "    </tr>\n",
       "    <tr>\n",
       "      <th>98</th>\n",
       "      <td>3.00 - 3.49</td>\n",
       "      <td>3.25</td>\n",
       "    </tr>\n",
       "    <tr>\n",
       "      <th>99</th>\n",
       "      <td>3.50 - 4.00</td>\n",
       "      <td>3.75</td>\n",
       "    </tr>\n",
       "    <tr>\n",
       "      <th>100</th>\n",
       "      <td>3.00 - 3.49</td>\n",
       "      <td>3.25</td>\n",
       "    </tr>\n",
       "  </tbody>\n",
       "</table>\n",
       "<p>101 rows × 2 columns</p>\n",
       "</div>"
      ],
      "text/plain": [
       "    What is your CGPA?  new_gpa\n",
       "0          3.00 - 3.49     3.25\n",
       "1          2.50 - 2.99     2.75\n",
       "2          3.50 - 4.00     3.75\n",
       "3          3.50 - 4.00     3.75\n",
       "4          3.00 - 3.49     3.25\n",
       "..                 ...      ...\n",
       "96         3.50 - 4.00     3.75\n",
       "97         3.50 - 4.00     3.75\n",
       "98         3.00 - 3.49     3.25\n",
       "99         3.50 - 4.00     3.75\n",
       "100        3.00 - 3.49     3.25\n",
       "\n",
       "[101 rows x 2 columns]"
      ]
     },
     "execution_count": 29,
     "metadata": {},
     "output_type": "execute_result"
    }
   ],
   "source": [
    "gpa['new_gpa'] = gpa['What is your CGPA?'].apply(recal_gpa)\n",
    "gpa"
   ]
  },
  {
   "cell_type": "code",
   "execution_count": 30,
   "metadata": {},
   "outputs": [
    {
     "data": {
      "text/plain": [
       "count    101.000000\n",
       "mean       3.331683\n",
       "std        0.627603\n",
       "min        1.000000\n",
       "25%        3.250000\n",
       "50%        3.250000\n",
       "75%        3.750000\n",
       "max        3.750000\n",
       "Name: new_gpa, dtype: float64"
      ]
     },
     "execution_count": 30,
     "metadata": {},
     "output_type": "execute_result"
    }
   ],
   "source": [
    "gpa['new_gpa'].describe()"
   ]
  },
  {
   "cell_type": "code",
   "execution_count": 31,
   "metadata": {},
   "outputs": [
    {
     "data": {
      "text/plain": [
       "3.75    47\n",
       "3.25    43\n",
       "1.00     5\n",
       "2.75     4\n",
       "2.25     2\n",
       "Name: new_gpa, dtype: int64"
      ]
     },
     "execution_count": 31,
     "metadata": {},
     "output_type": "execute_result"
    }
   ],
   "source": [
    "gpa['new_gpa'].value_counts()"
   ]
  },
  {
   "cell_type": "code",
   "execution_count": 32,
   "metadata": {},
   "outputs": [
    {
     "data": {
      "image/png": "[encoded data removed]",
      "text/plain": [
       "<Figure size 432x288 with 1 Axes>"
      ]
     },
     "metadata": {
      "needs_background": "light"
     },
     "output_type": "display_data"
    }
   ],
   "source": [
    "boxplot = gpa.boxplot(column=['new_gpa']) \n",
    "plt.title('Box plot of CGPA')\n",
    "plt.show()"
   ]
  },
  {
   "cell_type": "markdown",
   "metadata": {},
   "source": [
    "#### Research Question 2-1: Do you have depression / anxiety / panic attack?\n",
    "37 participants don’t have any certain mental illnesses while 64 of them have at least one illness. As for those with some problems with their mental health, 10 of them have depression, anxiety, and panic attack, 8 have both depression and anxiety, 7 have both depression and panic attack, and 3 have both anxiety and panic attack. While 10 have only depression, 13 have only anxiety, and 13 have only panic attack."
   ]
  },
  {
   "cell_type": "code",
   "execution_count": 33,
   "metadata": {},
   "outputs": [
    {
     "name": "stdout",
     "output_type": "stream",
     "text": [
      "Defaulting to user installation because normal site-packages is not writeable\n",
      "Requirement already satisfied: matplotlib-venn in ./.local/lib/python3.8/site-packages (0.11.7)\n",
      "Requirement already satisfied: matplotlib in /usr/local/anaconda3/lib/python3.8/site-packages (from matplotlib-venn) (3.2.2)\n",
      "Requirement already satisfied: scipy in /usr/local/anaconda3/lib/python3.8/site-packages (from matplotlib-venn) (1.5.0)\n",
      "Requirement already satisfied: numpy in /usr/local/anaconda3/lib/python3.8/site-packages (from matplotlib-venn) (1.18.5)\n",
      "Requirement already satisfied: cycler>=0.10 in /usr/local/anaconda3/lib/python3.8/site-packages (from matplotlib->matplotlib-venn) (0.10.0)\n",
      "Requirement already satisfied: pyparsing!=2.0.4,!=2.1.2,!=2.1.6,>=2.0.1 in /usr/local/anaconda3/lib/python3.8/site-packages (from matplotlib->matplotlib-venn) (2.4.7)\n",
      "Requirement already satisfied: python-dateutil>=2.1 in /usr/local/anaconda3/lib/python3.8/site-packages (from matplotlib->matplotlib-venn) (2.8.1)\n",
      "Requirement already satisfied: kiwisolver>=1.0.1 in /usr/local/anaconda3/lib/python3.8/site-packages (from matplotlib->matplotlib-venn) (1.2.0)\n",
      "Requirement already satisfied: six in /usr/local/anaconda3/lib/python3.8/site-packages (from cycler>=0.10->matplotlib->matplotlib-venn) (1.15.0)\n",
      "Note: you may need to restart the kernel to use updated packages.\n"
     ]
    }
   ],
   "source": [
    "pip install matplotlib-venn"
   ]
  },
  {
   "cell_type": "code",
   "execution_count": 34,
   "metadata": {},
   "outputs": [],
   "source": [
    "from matplotlib_venn import venn3, venn3_circles\n",
    "from matplotlib import pyplot as plt"
   ]
  },
  {
   "cell_type": "code",
   "execution_count": 35,
   "metadata": {},
   "outputs": [
    {
     "data": {
      "text/html": [
       "<div>\n",
       "<style scoped>\n",
       "    .dataframe tbody tr th:only-of-type {\n",
       "        vertical-align: middle;\n",
       "    }\n",
       "\n",
       "    .dataframe tbody tr th {\n",
       "        vertical-align: top;\n",
       "    }\n",
       "\n",
       "    .dataframe thead th {\n",
       "        text-align: right;\n",
       "    }\n",
       "</style>\n",
       "<table border=\"1\" class=\"dataframe\">\n",
       "  <thead>\n",
       "    <tr style=\"text-align: right;\">\n",
       "      <th></th>\n",
       "      <th>Depression</th>\n",
       "      <th>Anxiety</th>\n",
       "      <th>Panic attack</th>\n",
       "    </tr>\n",
       "  </thead>\n",
       "  <tbody>\n",
       "    <tr>\n",
       "      <th>0</th>\n",
       "      <td>No</td>\n",
       "      <td>No</td>\n",
       "      <td>No</td>\n",
       "    </tr>\n",
       "    <tr>\n",
       "      <th>1</th>\n",
       "      <td>Yes</td>\n",
       "      <td>No</td>\n",
       "      <td>Yes</td>\n",
       "    </tr>\n",
       "    <tr>\n",
       "      <th>2</th>\n",
       "      <td>No</td>\n",
       "      <td>No</td>\n",
       "      <td>No</td>\n",
       "    </tr>\n",
       "    <tr>\n",
       "      <th>3</th>\n",
       "      <td>No</td>\n",
       "      <td>Yes</td>\n",
       "      <td>No</td>\n",
       "    </tr>\n",
       "    <tr>\n",
       "      <th>4</th>\n",
       "      <td>Yes</td>\n",
       "      <td>No</td>\n",
       "      <td>No</td>\n",
       "    </tr>\n",
       "    <tr>\n",
       "      <th>...</th>\n",
       "      <td>...</td>\n",
       "      <td>...</td>\n",
       "      <td>...</td>\n",
       "    </tr>\n",
       "    <tr>\n",
       "      <th>96</th>\n",
       "      <td>Yes</td>\n",
       "      <td>Yes</td>\n",
       "      <td>No</td>\n",
       "    </tr>\n",
       "    <tr>\n",
       "      <th>97</th>\n",
       "      <td>Yes</td>\n",
       "      <td>Yes</td>\n",
       "      <td>Yes</td>\n",
       "    </tr>\n",
       "    <tr>\n",
       "      <th>98</th>\n",
       "      <td>No</td>\n",
       "      <td>No</td>\n",
       "      <td>No</td>\n",
       "    </tr>\n",
       "    <tr>\n",
       "      <th>99</th>\n",
       "      <td>No</td>\n",
       "      <td>No</td>\n",
       "      <td>Yes</td>\n",
       "    </tr>\n",
       "    <tr>\n",
       "      <th>100</th>\n",
       "      <td>Yes</td>\n",
       "      <td>No</td>\n",
       "      <td>No</td>\n",
       "    </tr>\n",
       "  </tbody>\n",
       "</table>\n",
       "<p>101 rows × 3 columns</p>\n",
       "</div>"
      ],
      "text/plain": [
       "    Depression Anxiety Panic attack\n",
       "0           No      No           No\n",
       "1          Yes      No          Yes\n",
       "2           No      No           No\n",
       "3           No     Yes           No\n",
       "4          Yes      No           No\n",
       "..         ...     ...          ...\n",
       "96         Yes     Yes           No\n",
       "97         Yes     Yes          Yes\n",
       "98          No      No           No\n",
       "99          No      No          Yes\n",
       "100        Yes      No           No\n",
       "\n",
       "[101 rows x 3 columns]"
      ]
     },
     "execution_count": 35,
     "metadata": {},
     "output_type": "execute_result"
    }
   ],
   "source": [
    "dap = pd.read_excel('Student Mental health.xls', usecols=[7, 8, 9])\n",
    "dap.rename(columns={\n",
    "    'Do you have Depression?': 'Depression',\n",
    "    'Do you have Anxiety?': 'Anxiety',\n",
    "    'Do you have Panic attack?': 'Panic attack'}, inplace=True)\n",
    "dap"
   ]
  },
  {
   "cell_type": "code",
   "execution_count": 36,
   "metadata": {},
   "outputs": [
    {
     "data": {
      "text/plain": [
       "Depression  Anxiety  Panic attack\n",
       "No          No       No              37\n",
       "                     Yes             13\n",
       "            Yes      No              13\n",
       "                     Yes              3\n",
       "Yes         No       No              10\n",
       "                     Yes              7\n",
       "            Yes      No               8\n",
       "                     Yes             10\n",
       "dtype: int64"
      ]
     },
     "execution_count": 36,
     "metadata": {},
     "output_type": "execute_result"
    }
   ],
   "source": [
    "dap.groupby(['Depression', 'Anxiety', 'Panic attack']).size() "
   ]
  },
  {
   "cell_type": "code",
   "execution_count": 37,
   "metadata": {},
   "outputs": [
    {
     "data": {
      "text/plain": [
       "Text(0.5, 1.0, 'All students with mental health issues')"
      ]
     },
     "execution_count": 37,
     "metadata": {},
     "output_type": "execute_result"
    },
    {
     "data": {
      "image/png": "[encoded data removed]",
      "text/plain": [
       "<Figure size 432x288 with 1 Axes>"
      ]
     },
     "metadata": {},
     "output_type": "display_data"
    }
   ],
   "source": [
    "venn3(subsets = (10, 13, 8, 13, 7, 3, 10), set_labels = ('Despression', 'Anxiety', 'Panic attack'), alpha = 0.5)\n",
    "plt.title('All students with mental health issues' , size=15)"
   ]
  },
  {
   "cell_type": "code",
   "execution_count": 38,
   "metadata": {},
   "outputs": [
    {
     "data": {
      "text/html": [
       "<div>\n",
       "<style scoped>\n",
       "    .dataframe tbody tr th:only-of-type {\n",
       "        vertical-align: middle;\n",
       "    }\n",
       "\n",
       "    .dataframe tbody tr th {\n",
       "        vertical-align: top;\n",
       "    }\n",
       "\n",
       "    .dataframe thead th {\n",
       "        text-align: right;\n",
       "    }\n",
       "</style>\n",
       "<table border=\"1\" class=\"dataframe\">\n",
       "  <thead>\n",
       "    <tr style=\"text-align: right;\">\n",
       "      <th></th>\n",
       "      <th>Your current year of Study</th>\n",
       "      <th>Depression</th>\n",
       "      <th>Anxiety</th>\n",
       "      <th>Panic attack</th>\n",
       "    </tr>\n",
       "  </thead>\n",
       "  <tbody>\n",
       "    <tr>\n",
       "      <th>0</th>\n",
       "      <td>Year 3</td>\n",
       "      <td>No</td>\n",
       "      <td>No</td>\n",
       "      <td>No</td>\n",
       "    </tr>\n",
       "    <tr>\n",
       "      <th>1</th>\n",
       "      <td>Year 1</td>\n",
       "      <td>Yes</td>\n",
       "      <td>No</td>\n",
       "      <td>Yes</td>\n",
       "    </tr>\n",
       "    <tr>\n",
       "      <th>2</th>\n",
       "      <td>Year 1</td>\n",
       "      <td>No</td>\n",
       "      <td>No</td>\n",
       "      <td>No</td>\n",
       "    </tr>\n",
       "    <tr>\n",
       "      <th>3</th>\n",
       "      <td>Year 1</td>\n",
       "      <td>No</td>\n",
       "      <td>Yes</td>\n",
       "      <td>No</td>\n",
       "    </tr>\n",
       "    <tr>\n",
       "      <th>4</th>\n",
       "      <td>Year 1</td>\n",
       "      <td>Yes</td>\n",
       "      <td>No</td>\n",
       "      <td>No</td>\n",
       "    </tr>\n",
       "    <tr>\n",
       "      <th>...</th>\n",
       "      <td>...</td>\n",
       "      <td>...</td>\n",
       "      <td>...</td>\n",
       "      <td>...</td>\n",
       "    </tr>\n",
       "    <tr>\n",
       "      <th>96</th>\n",
       "      <td>Year 1</td>\n",
       "      <td>Yes</td>\n",
       "      <td>Yes</td>\n",
       "      <td>No</td>\n",
       "    </tr>\n",
       "    <tr>\n",
       "      <th>97</th>\n",
       "      <td>Year 1</td>\n",
       "      <td>Yes</td>\n",
       "      <td>Yes</td>\n",
       "      <td>Yes</td>\n",
       "    </tr>\n",
       "    <tr>\n",
       "      <th>98</th>\n",
       "      <td>Year 1</td>\n",
       "      <td>No</td>\n",
       "      <td>No</td>\n",
       "      <td>No</td>\n",
       "    </tr>\n",
       "    <tr>\n",
       "      <th>99</th>\n",
       "      <td>Year 2</td>\n",
       "      <td>No</td>\n",
       "      <td>No</td>\n",
       "      <td>Yes</td>\n",
       "    </tr>\n",
       "    <tr>\n",
       "      <th>100</th>\n",
       "      <td>Year 2</td>\n",
       "      <td>Yes</td>\n",
       "      <td>No</td>\n",
       "      <td>No</td>\n",
       "    </tr>\n",
       "  </tbody>\n",
       "</table>\n",
       "<p>101 rows × 4 columns</p>\n",
       "</div>"
      ],
      "text/plain": [
       "    Your current year of Study Depression Anxiety Panic attack\n",
       "0                       Year 3         No      No           No\n",
       "1                       Year 1        Yes      No          Yes\n",
       "2                       Year 1         No      No           No\n",
       "3                       Year 1         No     Yes           No\n",
       "4                       Year 1        Yes      No           No\n",
       "..                         ...        ...     ...          ...\n",
       "96                      Year 1        Yes     Yes           No\n",
       "97                      Year 1        Yes     Yes          Yes\n",
       "98                      Year 1         No      No           No\n",
       "99                      Year 2         No      No          Yes\n",
       "100                     Year 2        Yes      No           No\n",
       "\n",
       "[101 rows x 4 columns]"
      ]
     },
     "execution_count": 38,
     "metadata": {},
     "output_type": "execute_result"
    }
   ],
   "source": [
    "dd = pd.read_excel('Student Mental health.xls', usecols=[4, 7, 8, 9])\n",
    "dd.rename(columns={\n",
    "    'Do you have Depression?': 'Depression',\n",
    "    'Do you have Anxiety?': 'Anxiety',\n",
    "    'Do you have Panic attack?': 'Panic attack'}, inplace=True)\n",
    "dd"
   ]
  },
  {
   "cell_type": "markdown",
   "metadata": {},
   "source": [
    "Year 1 students are the majority of the participants, and they also account for the largest number of those with mental health issues, with 39.1%."
   ]
  },
  {
   "cell_type": "code",
   "execution_count": 39,
   "metadata": {},
   "outputs": [
    {
     "data": {
      "text/plain": [
       "Your current year of Study  Depression  Anxiety  Panic attack\n",
       "Year 1                      No          No       No              18\n",
       "                                                 Yes              4\n",
       "                                        Yes      No               4\n",
       "                                                 Yes              3\n",
       "                            Yes         No       No               4\n",
       "                                                 Yes              3\n",
       "                                        Yes      No               3\n",
       "                                                 Yes              4\n",
       "Year 2                      No          No       No               7\n",
       "                                                 Yes              4\n",
       "                                        Yes      No               5\n",
       "                            Yes         No       No               3\n",
       "                                                 Yes              2\n",
       "                                        Yes      No               3\n",
       "                                                 Yes              2\n",
       "Year 3                      No          No       No               6\n",
       "                                                 Yes              5\n",
       "                                        Yes      No               3\n",
       "                            Yes         No       No               3\n",
       "                                                 Yes              2\n",
       "                                        Yes      No               2\n",
       "                                                 Yes              3\n",
       "Year 4                      No          No       No               6\n",
       "                                        Yes      No               1\n",
       "                            Yes         Yes      Yes              1\n",
       "dtype: int64"
      ]
     },
     "execution_count": 39,
     "metadata": {},
     "output_type": "execute_result"
    }
   ],
   "source": [
    "dd.groupby(['Your current year of Study', 'Depression', 'Anxiety', 'Panic attack']).size() "
   ]
  },
  {
   "cell_type": "code",
   "execution_count": 40,
   "metadata": {},
   "outputs": [
    {
     "data": {
      "image/png": "[encoded data removed]",
      "text/plain": [
       "<Figure size 432x288 with 1 Axes>"
      ]
     },
     "metadata": {},
     "output_type": "display_data"
    }
   ],
   "source": [
    "from matplotlib import cm\n",
    "\n",
    "cw = pd.Series({\n",
    "'Year 1': 25,\n",
    "'Year 2': 19,\n",
    "'Year 3': 18,\n",
    "'Year 4': 2,\n",
    "})\n",
    "ax = cw.plot.pie(\n",
    "autopct='%.1f%%',\n",
    "startangle=90,\n",
    "counterclock=True, colors=cm.Set2([1, 2, 6, 5]), wedgeprops = { 'edgecolor': 'white'},\n",
    "title = 'The year of students with mental health issues'\n",
    ") \n",
    "ax.get_yaxis().set_visible(False) \n",
    "plt.show()"
   ]
  },
  {
   "cell_type": "markdown",
   "metadata": {},
   "source": [
    "#### Research Question 2-2: Did you seek any specialist for a treatment?\n",
    "Only 5.9% of the participants sought treatment while 94.1% of them didn’t."
   ]
  },
  {
   "cell_type": "code",
   "execution_count": 41,
   "metadata": {},
   "outputs": [
    {
     "data": {
      "text/html": [
       "<div>\n",
       "<style scoped>\n",
       "    .dataframe tbody tr th:only-of-type {\n",
       "        vertical-align: middle;\n",
       "    }\n",
       "\n",
       "    .dataframe tbody tr th {\n",
       "        vertical-align: top;\n",
       "    }\n",
       "\n",
       "    .dataframe thead th {\n",
       "        text-align: right;\n",
       "    }\n",
       "</style>\n",
       "<table border=\"1\" class=\"dataframe\">\n",
       "  <thead>\n",
       "    <tr style=\"text-align: right;\">\n",
       "      <th></th>\n",
       "      <th>Seeked for a treatment</th>\n",
       "    </tr>\n",
       "  </thead>\n",
       "  <tbody>\n",
       "    <tr>\n",
       "      <th>0</th>\n",
       "      <td>No</td>\n",
       "    </tr>\n",
       "    <tr>\n",
       "      <th>1</th>\n",
       "      <td>Yes</td>\n",
       "    </tr>\n",
       "    <tr>\n",
       "      <th>2</th>\n",
       "      <td>No</td>\n",
       "    </tr>\n",
       "    <tr>\n",
       "      <th>3</th>\n",
       "      <td>No</td>\n",
       "    </tr>\n",
       "    <tr>\n",
       "      <th>4</th>\n",
       "      <td>No</td>\n",
       "    </tr>\n",
       "    <tr>\n",
       "      <th>...</th>\n",
       "      <td>...</td>\n",
       "    </tr>\n",
       "    <tr>\n",
       "      <th>96</th>\n",
       "      <td>Yes</td>\n",
       "    </tr>\n",
       "    <tr>\n",
       "      <th>97</th>\n",
       "      <td>No</td>\n",
       "    </tr>\n",
       "    <tr>\n",
       "      <th>98</th>\n",
       "      <td>No</td>\n",
       "    </tr>\n",
       "    <tr>\n",
       "      <th>99</th>\n",
       "      <td>No</td>\n",
       "    </tr>\n",
       "    <tr>\n",
       "      <th>100</th>\n",
       "      <td>No</td>\n",
       "    </tr>\n",
       "  </tbody>\n",
       "</table>\n",
       "<p>101 rows × 1 columns</p>\n",
       "</div>"
      ],
      "text/plain": [
       "    Seeked for a treatment\n",
       "0                       No\n",
       "1                      Yes\n",
       "2                       No\n",
       "3                       No\n",
       "4                       No\n",
       "..                     ...\n",
       "96                     Yes\n",
       "97                      No\n",
       "98                      No\n",
       "99                      No\n",
       "100                     No\n",
       "\n",
       "[101 rows x 1 columns]"
      ]
     },
     "execution_count": 41,
     "metadata": {},
     "output_type": "execute_result"
    }
   ],
   "source": [
    "tm = pd.read_excel('Student Mental health.xls', usecols=[10])\n",
    "tm.rename(columns={'Did you seek any specialist for a treatment?': 'Seeked for a treatment'}, inplace=True)\n",
    "tm"
   ]
  },
  {
   "cell_type": "code",
   "execution_count": 42,
   "metadata": {},
   "outputs": [
    {
     "data": {
      "text/plain": [
       "No     95\n",
       "Yes     6\n",
       "Name: Seeked for a treatment, dtype: int64"
      ]
     },
     "execution_count": 42,
     "metadata": {},
     "output_type": "execute_result"
    }
   ],
   "source": [
    "tm['Seeked for a treatment'].value_counts()"
   ]
  },
  {
   "cell_type": "code",
   "execution_count": 43,
   "metadata": {},
   "outputs": [
    {
     "data": {
      "image/png": "[encoded data removed]",
      "text/plain": [
       "<Figure size 432x288 with 1 Axes>"
      ]
     },
     "metadata": {},
     "output_type": "display_data"
    }
   ],
   "source": [
    "from matplotlib import cm\n",
    "\n",
    "cw = pd.Series({\n",
    "'No': 95,\n",
    "'Yes': 6,\n",
    "})\n",
    "ax = cw.plot.pie(\n",
    "autopct='%.1f%%',\n",
    "startangle=90,\n",
    "counterclock=True, colors=cm.Set2([1, 2]), wedgeprops = { 'edgecolor': 'white'},\n",
    "title = 'Sought a treatment'\n",
    ") \n",
    "ax.get_yaxis().set_visible(False) \n",
    "plt.show()"
   ]
  },
  {
   "cell_type": "markdown",
   "metadata": {},
   "source": [
    "## Conclusions\n",
    "The majority of the participants were in their first year, and most of the students were able to achieve an academic score of 3.00 or even higher, with only a small number (10 people) scoring below 3.00.\n",
    "\n",
    "The survey also found that approximately 37% of the participants don’t suffer from any psychological issues such as depression, anxiety, or panic attack. While 63% of them are suffering from at least one illness, with mostly year 1 students.\n",
    "This phenomenon could be reflected in the government's goal of the new policy: increasing investments to help university students have better access to mental health services, especially for first-year students who have just started their university life and moved to a new environment, to reduce their difficulty in accessing services when moving to a new location.\n",
    "\n",
    "In addition, as Iain Brennan, the College Services Director of the University of York IPC (Kaplan) mentioned, mental health is the most common reason why students drop out of their courses. How to help students strike a balance between academic success and mental health is an important issue that the government needs to continue working on.\n",
    "\n",
    "In general, I think several improvements can be made to the survey. First of all, some of the questions can be changed to drop-down options. For example, in the course area, the common subjects can be listed, and the rest can be represented by \"other\". Doing so, not only makes the survey easier for the respondents to answer but also makes it easier to compile the results. Meanwhile, it can avoid the differences caused by capitalization and misspelling as well. The same problem also happens in ‘the current year of study’ and requires additional time to sort the data.\n",
    "\n",
    "Secondly, we can add new questions about factors that affect students' mental health, such as academic stress, interpersonal relationships, difficulties in adapting to new environments, or job-seeking stress, to understand the reasons causing their stress and to explore what resources and help they need, and what situations or problems they encounter when looking for a treatment that makes them reluctant to seek specialist. If we can learn more through these questions, a more comprehensive and complete picture would be obtained."
   ]
  },
  {
   "cell_type": "markdown",
   "metadata": {},
   "source": [
    "## References\n",
    "[1] Iain Brennan, Better targeting of mental health support is needed for international students, Webpage, accessed on December 22, 2022.\n",
    "\n",
    "[2], [3] Gaps in student mental health services to be tackled, Webpage, accessed on December 22, 2022."
   ]
  },
  {
   "cell_type": "markdown",
   "metadata": {},
   "source": [
    "## Appendices"
   ]
  },
  {
   "cell_type": "markdown",
   "metadata": {
    "editable": false
   },
   "source": [
    "## Word Count\n",
    "\n",
    "The following code will count the number of words in Markdown cells. Code cells are not included.\n",
    "\n",
    "- `Main word count` is the number of words in the main body of the text, *excluding* references or appendices.\n",
    "- `References and appendices word count` is the number of words in any references or appendices.\n",
    "\n",
    "Only `Main word count` relates to the assignment word limit. There is no limit to the number of words that can be included in references or appendices. Please note that appendices should only be used to provide context or supporting information. *No marks will be directly awarded for material submitted in appendices*.\n",
    "\n",
    "Important:\n",
    "\n",
    "- Please do not modify the word count code!\n",
    "- To exclude references from your word count **you must** have a cell that starts with the text `## References`. Everything below this cell will not count towards the main word count.\n",
    "- If you are submitting additional material as appendices **you must** have a cell that starts with the text `## Appendices`. Everything below this cell will not count towards the main word count. If you do not have any appendices you can delete the `## Appendices` cell.\n",
    "- Code comments should only be used to explain details of the implementation, not for discussing your findings. All analysis commentary **must** be written in Markdown cells. *No marks will be awarded for analysis discussion submitted as comments in code cells*."
   ]
  },
  {
   "cell_type": "code",
   "execution_count": 44,
   "metadata": {
    "editable": false,
    "tags": []
   },
   "outputs": [
    {
     "data": {
      "application/javascript": [
       "\n",
       "// Run this cell to update your word count.\n",
       "\n",
       "function wordcount() {\n",
       "    let wordCount = 0\n",
       "    let extraCount = 0\n",
       "    let mainBody = true\n",
       "\n",
       "    let cells = Jupyter.notebook.get_cells()\n",
       "    cells.forEach((cell) => {\n",
       "        if (cell.cell_type == 'markdown') {\n",
       "            let text = cell.get_text()\n",
       "            // Stop counting as main body when get to References or Appendices.\n",
       "            if (text.startsWith('## References') ||\n",
       "                text.startsWith('## Appendices')) {\n",
       "                mainBody = false\n",
       "            }\n",
       "            if (text.startsWith('## Word Count')) {\n",
       "                text = ''\n",
       "            }\n",
       "            if (text) {\n",
       "                let words = text.toLowerCase().match(/\\b[a-z\\d]+\\b/g)\n",
       "                if (words) {\n",
       "                    let cellCount = words.length\n",
       "                    if (mainBody) {\n",
       "                        wordCount += cellCount\n",
       "                    } else {\n",
       "                        extraCount += cellCount\n",
       "                    }\n",
       "                }\n",
       "            }\n",
       "        }\n",
       "    })\n",
       "    return [wordCount, extraCount]\n",
       "}\n",
       "\n",
       "let wc = wordcount()\n",
       "element.append(`Main word count: ${wc[0]} (References and appendices word count: ${wc[1]})`)\n"
      ],
      "text/plain": [
       "<IPython.core.display.Javascript object>"
      ]
     },
     "metadata": {},
     "output_type": "display_data"
    }
   ],
   "source": [
    "%%js\n",
    "\n",
    "// Run this cell to update your word count.\n",
    "\n",
    "function wordcount() {\n",
    "    let wordCount = 0\n",
    "    let extraCount = 0\n",
    "    let mainBody = true\n",
    "\n",
    "    let cells = Jupyter.notebook.get_cells()\n",
    "    cells.forEach((cell) => {\n",
    "        if (cell.cell_type == 'markdown') {\n",
    "            let text = cell.get_text()\n",
    "            // Stop counting as main body when get to References or Appendices.\n",
    "            if (text.startsWith('## References') ||\n",
    "                text.startsWith('## Appendices')) {\n",
    "                mainBody = false\n",
    "            }\n",
    "            if (text.startsWith('## Word Count')) {\n",
    "                text = ''\n",
    "            }\n",
    "            if (text) {\n",
    "                let words = text.toLowerCase().match(/\\b[a-z\\d]+\\b/g)\n",
    "                if (words) {\n",
    "                    let cellCount = words.length\n",
    "                    if (mainBody) {\n",
    "                        wordCount += cellCount\n",
    "                    } else {\n",
    "                        extraCount += cellCount\n",
    "                    }\n",
    "                }\n",
    "            }\n",
    "        }\n",
    "    })\n",
    "    return [wordCount, extraCount]\n",
    "}\n",
    "\n",
    "let wc = wordcount()\n",
    "element.append(`Main word count: ${wc[0]} (References and appendices word count: ${wc[1]})`)"
   ]
  }
 ],
 "metadata": {
  "celltoolbar": "Edit Metadata",
  "kernelspec": {
   "display_name": "Python 3",
   "language": "python",
   "name": "python3"
  },
  "language_info": {
   "codemirror_mode": {
    "name": "ipython",
    "version": 3
   },
   "file_extension": ".py",
   "mimetype": "text/x-python",
   "name": "python",
   "nbconvert_exporter": "python",
   "pygments_lexer": "ipython3",
   "version": "3.8.3"
  }
 },
 "nbformat": 4,
 "nbformat_minor": 5
}
